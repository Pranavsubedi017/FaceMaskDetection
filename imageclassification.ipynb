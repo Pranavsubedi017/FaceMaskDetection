{
  "cells": [
    {
      "cell_type": "code",
      "source": [],
      "metadata": {
        "id": "yP0-90XdHVva"
      },
      "execution_count": null,
      "outputs": []
    },
    {
      "cell_type": "code",
      "source": [
        "import tensorflow as tf\n",
        "from tensorflow.keras.models import Sequential\n",
        "from tensorflow.keras.layers import Dense, Dropout, Activation, Flatten, Conv2D, MaxPooling2D\n",
        "from tensorflow.keras.preprocessing.image import ImageDataGenerator\n",
        "import numpy as np"
      ],
      "metadata": {
        "id": "P9tcXHQdKMJR"
      },
      "execution_count": null,
      "outputs": []
    },
    {
      "cell_type": "code",
      "source": [
        "model = Sequential([\n",
        "                    Conv2D(32, (5,5), input_shape=(200,200,3)),\n",
        "\n",
        "                    MaxPooling2D(pool_size=(4,4)),\n",
        "                    Conv2D(64, (4,4)),\n",
        "\n",
        "                    MaxPooling2D(pool_size=(3,3)),\n",
        "                    Conv2D(128, (3,3)),\n",
        "\n",
        "                    MaxPooling2D(pool_size=(2,2)),\n",
        "                    Conv2D(64, (2,2)),\n",
        "\n",
        "                    MaxPooling2D(pool_size=(2,2)),\n",
        "                    Dropout(0.5),\n",
        "                    Flatten(),\n",
        "                    Dense(128),\n",
        "                    Activation('relu'),\n",
        "                    Dropout(0.1),\n",
        "                    Dense(256),\n",
        "                    Activation('relu'),\n",
        "                    Dropout(0.25),\n",
        "                    Dense(2),\n",
        "                    Activation('softmax')\n",
        "])"
      ],
      "metadata": {
        "id": "wYs3AdWhKaBm"
      },
      "execution_count": null,
      "outputs": []
    },
    {
      "cell_type": "code",
      "source": [
        "file_path1 = '/content/drive/My Drive/dataset/train'\n",
        "file_path2 = '/content/drive/My Drive/dataset/test'\n",
        "file_path3 = '/content/drive/My Drive/dataset/valid'\n"
      ],
      "metadata": {
        "id": "jeelNl1mVYg6"
      },
      "execution_count": null,
      "outputs": []
    },
    {
      "cell_type": "code",
      "source": [
        "train_images= ImageDataGenerator(rescale=1./255,shear_range=0.2,zoom_range=0.2,horizontal_flip=True,rotation_range=40, width_shift_range=0.2, height_shift_range=0.2,fill_mode='nearest')\n",
        "valid_images= ImageDataGenerator(rescale=1./255)"
      ],
      "metadata": {
        "id": "_RmQBS1yL8tP"
      },
      "execution_count": null,
      "outputs": []
    },
    {
      "cell_type": "code",
      "source": [
        "train=train_images.flow_from_directory(file_path1, target_size=(200,200),batch_size=128, class_mode='binary',shuffle=True)\n",
        "#test=images.flow_from_directory(file_path2, target_size=(100,100),batch_size=30, class_mode='binary',shuffle=True)\n",
        "valid=valid_images.flow_from_directory(file_path3, target_size=(200,200),batch_size=128, class_mode='binary',shuffle=True)"
      ],
      "metadata": {
        "colab": {
          "base_uri": "https://localhost:8080/"
        },
        "id": "PQR9vhxpVHVk",
        "outputId": "0b98ebc1-6c34-450d-ec20-a668bb34b4ef"
      },
      "execution_count": null,
      "outputs": [
        {
          "output_type": "stream",
          "name": "stdout",
          "text": [
            "Found 3649 images belonging to 2 classes.\n",
            "Found 806 images belonging to 2 classes.\n"
          ]
        }
      ]
    },
    {
      "cell_type": "code",
      "source": [
        "import time\n",
        "name='mask-no-mask-{}'.format(int(time.time()))\n",
        "content=['mask','no mask']\n",
        "tensorboard_callback = tf.keras.callbacks.TensorBoard(\n",
        "    log_dir='/content/logs/{}'.format(name))"
      ],
      "metadata": {
        "id": "g28o-oGhVvLV"
      },
      "execution_count": null,
      "outputs": []
    },
    {
      "cell_type": "code",
      "source": [
        "location='/content/drive/My Drive/checkpoint.model.keras'\n",
        "checkpoint_callback = tf.keras.callbacks.ModelCheckpoint(\n",
        "    filepath=location,\n",
        "    save_weights_only=True,\n",
        "    monitor='val_loss',\n",
        "    mode='min',\n",
        "    save_best_only=True)"
      ],
      "metadata": {
        "id": "Q1d0vGt46icm"
      },
      "execution_count": null,
      "outputs": []
    },
    {
      "cell_type": "code",
      "source": [
        "model.compile(loss='sparse_categorical_crossentropy', optimizer='adam', metrics=['accuracy'])"
      ],
      "metadata": {
        "id": "1JUAUQkXV9vR"
      },
      "execution_count": null,
      "outputs": []
    },
    {
      "cell_type": "code",
      "source": [
        "model.fit(train, epochs=15,verbose=1,callbacks=[tensorboard_callback,checkpoint_callback], validation_data=valid)"
      ],
      "metadata": {
        "colab": {
          "base_uri": "https://localhost:8080/"
        },
        "id": "qIfp1XVpWBOp",
        "outputId": "f401cc7b-df65-4448-a1a9-50c2b05dc340"
      },
      "execution_count": null,
      "outputs": [
        {
          "output_type": "stream",
          "name": "stdout",
          "text": [
            "Epoch 1/15\n",
            "29/29 [==============================] - 216s 7s/step - loss: 0.5156 - accuracy: 0.7405 - val_loss: 0.2770 - val_accuracy: 0.8908\n",
            "Epoch 2/15\n",
            "29/29 [==============================] - 218s 7s/step - loss: 0.3249 - accuracy: 0.8846 - val_loss: 0.1932 - val_accuracy: 0.9380\n",
            "Epoch 3/15\n",
            "29/29 [==============================] - 213s 7s/step - loss: 0.3004 - accuracy: 0.8868 - val_loss: 0.2015 - val_accuracy: 0.9318\n",
            "Epoch 4/15\n",
            "29/29 [==============================] - 212s 7s/step - loss: 0.2910 - accuracy: 0.8948 - val_loss: 0.2018 - val_accuracy: 0.9305\n",
            "Epoch 5/15\n",
            "29/29 [==============================] - 213s 7s/step - loss: 0.2951 - accuracy: 0.8978 - val_loss: 0.1675 - val_accuracy: 0.9442\n",
            "Epoch 6/15\n",
            "29/29 [==============================] - 213s 7s/step - loss: 0.2713 - accuracy: 0.9041 - val_loss: 0.1538 - val_accuracy: 0.9553\n",
            "Epoch 7/15\n",
            "29/29 [==============================] - 218s 7s/step - loss: 0.2523 - accuracy: 0.9090 - val_loss: 0.1427 - val_accuracy: 0.9491\n",
            "Epoch 8/15\n",
            "29/29 [==============================] - 212s 7s/step - loss: 0.2609 - accuracy: 0.9063 - val_loss: 0.1430 - val_accuracy: 0.9553\n",
            "Epoch 9/15\n",
            "29/29 [==============================] - 212s 7s/step - loss: 0.2508 - accuracy: 0.9068 - val_loss: 0.1441 - val_accuracy: 0.9491\n",
            "Epoch 10/15\n",
            "29/29 [==============================] - 212s 7s/step - loss: 0.2376 - accuracy: 0.9175 - val_loss: 0.1395 - val_accuracy: 0.9553\n",
            "Epoch 11/15\n",
            "29/29 [==============================] - 211s 7s/step - loss: 0.2552 - accuracy: 0.9068 - val_loss: 0.1590 - val_accuracy: 0.9454\n",
            "Epoch 12/15\n",
            "29/29 [==============================] - 212s 7s/step - loss: 0.2264 - accuracy: 0.9203 - val_loss: 0.1499 - val_accuracy: 0.9355\n",
            "Epoch 13/15\n",
            "29/29 [==============================] - 212s 7s/step - loss: 0.2296 - accuracy: 0.9139 - val_loss: 0.1190 - val_accuracy: 0.9578\n",
            "Epoch 14/15\n",
            "29/29 [==============================] - 212s 7s/step - loss: 0.2085 - accuracy: 0.9285 - val_loss: 0.1095 - val_accuracy: 0.9690\n",
            "Epoch 15/15\n",
            "29/29 [==============================] - 212s 7s/step - loss: 0.2079 - accuracy: 0.9255 - val_loss: 0.1078 - val_accuracy: 0.9677\n"
          ]
        },
        {
          "output_type": "execute_result",
          "data": {
            "text/plain": [
              "<keras.src.callbacks.History at 0x7cdfe4b3f580>"
            ]
          },
          "metadata": {},
          "execution_count": 36
        }
      ]
    },
    {
      "cell_type": "code",
      "source": [
        "model.save('/content/drive/My Drive/detector.model.keras')\n"
      ],
      "metadata": {
        "id": "s06R_zXoWhdK"
      },
      "execution_count": null,
      "outputs": []
    },
    {
      "cell_type": "code",
      "source": [
        "model.evaluate(valid)"
      ],
      "metadata": {
        "id": "YGMyW0HBbDx9",
        "outputId": "70755589-5cf1-4a1f-8f8c-d10a56e00b16",
        "colab": {
          "base_uri": "https://localhost:8080/"
        }
      },
      "execution_count": null,
      "outputs": [
        {
          "output_type": "stream",
          "name": "stdout",
          "text": [
            "7/7 [==============================] - 15s 2s/step - loss: 0.1078 - accuracy: 0.9677\n"
          ]
        },
        {
          "output_type": "execute_result",
          "data": {
            "text/plain": [
              "[0.10780607163906097, 0.9677419066429138]"
            ]
          },
          "metadata": {},
          "execution_count": 38
        }
      ]
    },
    {
      "cell_type": "code",
      "source": [],
      "metadata": {
        "id": "eh9r9SiHeQDA"
      },
      "execution_count": null,
      "outputs": []
    }
  ],
  "metadata": {
    "accelerator": "GPU",
    "colab": {
      "gpuType": "T4",
      "provenance": []
    },
    "kernelspec": {
      "display_name": "Python 3",
      "name": "python3"
    },
    "language_info": {
      "name": "python"
    }
  },
  "nbformat": 4,
  "nbformat_minor": 0
}